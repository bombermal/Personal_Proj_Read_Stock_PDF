{
 "cells": [
  {
   "cell_type": "code",
   "execution_count": 30,
   "metadata": {},
   "outputs": [],
   "source": [
    "# Imports\n",
    "import os\n",
    "from tabula import read_pdf, convert_into\n",
    "import pandas as pd"
   ]
  },
  {
   "cell_type": "code",
   "execution_count": 151,
   "metadata": {},
   "outputs": [
    {
     "name": "stdout",
     "output_type": "stream",
     "text": [
      "8\n"
     ]
    },
    {
     "data": {
      "text/plain": [
       "['NOTA_CORRETAGEM_09_2021.pdf',\n",
       " 'NOTA_CORRETAGEM_11_2021.pdf',\n",
       " 'NOTA_CORRETAGEM_07_2021.pdf',\n",
       " 'NOTA_CORRETAGEM_05_2021.pdf',\n",
       " 'NOTA_CORRETAGEM_02_2021.pdf',\n",
       " 'NOTA_CORRETAGEM_01_2021.pdf',\n",
       " 'NOTA_CORRETAGEM_12_2021.pdf',\n",
       " 'NOTA_CORRETAGEM_04_2021.pdf']"
      ]
     },
     "execution_count": 151,
     "metadata": {},
     "output_type": "execute_result"
    }
   ],
   "source": [
    "year = 2021\n",
    "# Find os type\n",
    "if os.name == \"posix\":\n",
    "    path = f\"/opt/Projects/Personal_Proj_Read_Stock_PDF/pdf_source/{year}\"\n",
    "else:\n",
    "    path = \"D:/Ivan/OneDrive/Documents/Investimento/IR/{year}/Notas de corretagem\"\n",
    "\n",
    "# List files inside the directory\n",
    "files = os.listdir(path)\n",
    "files.remove(\".keep\")\n",
    "print(len(files))\n",
    "files"
   ]
  },
  {
   "cell_type": "code",
   "execution_count": 223,
   "metadata": {},
   "outputs": [
    {
     "name": "stdout",
     "output_type": "stream",
     "text": [
      "20-04-2021\n"
     ]
    },
    {
     "name": "stderr",
     "output_type": "stream",
     "text": [
      "/home/ivan/miniconda3/envs/pdf_read/lib/python3.11/site-packages/tabula/io.py:1045: FutureWarning: errors='ignore' is deprecated and will raise in a future version. Use to_numeric without passing `errors` and catch exceptions explicitly instead\n",
      "  df[c] = pd.to_numeric(df[c], errors=\"ignore\")\n"
     ]
    },
    {
     "data": {
      "text/html": [
       "<div>\n",
       "<style scoped>\n",
       "    .dataframe tbody tr th:only-of-type {\n",
       "        vertical-align: middle;\n",
       "    }\n",
       "\n",
       "    .dataframe tbody tr th {\n",
       "        vertical-align: top;\n",
       "    }\n",
       "\n",
       "    .dataframe thead th {\n",
       "        text-align: right;\n",
       "    }\n",
       "</style>\n",
       "<table border=\"1\" class=\"dataframe\">\n",
       "  <thead>\n",
       "    <tr style=\"text-align: right;\">\n",
       "      <th></th>\n",
       "      <th>Q</th>\n",
       "      <th>Negociação</th>\n",
       "      <th>C/V</th>\n",
       "      <th>Tipo mercado</th>\n",
       "      <th>Prazo</th>\n",
       "      <th>Especificação do título</th>\n",
       "      <th>Obs. (*)</th>\n",
       "      <th>Quantidade</th>\n",
       "      <th>Preço / Ajuste</th>\n",
       "      <th>Valor Operação / Ajuste</th>\n",
       "      <th>D/C</th>\n",
       "    </tr>\n",
       "  </thead>\n",
       "  <tbody>\n",
       "    <tr>\n",
       "      <th>0</th>\n",
       "      <td>-</td>\n",
       "      <td>1-BOVESPA</td>\n",
       "      <td>C</td>\n",
       "      <td>FRACIONARIO</td>\n",
       "      <td>-</td>\n",
       "      <td>ITAUSAPN N1</td>\n",
       "      <td>-</td>\n",
       "      <td>9</td>\n",
       "      <td>10,17</td>\n",
       "      <td>91,53</td>\n",
       "      <td>D</td>\n",
       "    </tr>\n",
       "    <tr>\n",
       "      <th>1</th>\n",
       "      <td>-</td>\n",
       "      <td>1-BOVESPA</td>\n",
       "      <td>C</td>\n",
       "      <td>FRACIONARIO</td>\n",
       "      <td>-</td>\n",
       "      <td>SANEPARPN N2</td>\n",
       "      <td>-</td>\n",
       "      <td>1</td>\n",
       "      <td>4,37</td>\n",
       "      <td>4,37</td>\n",
       "      <td>D</td>\n",
       "    </tr>\n",
       "  </tbody>\n",
       "</table>\n",
       "</div>"
      ],
      "text/plain": [
       "   Q Negociação C/V Tipo mercado Prazo Especificação do título Obs. (*)  \\\n",
       "0  -  1-BOVESPA   C  FRACIONARIO     -             ITAUSAPN N1        -   \n",
       "1  -  1-BOVESPA   C  FRACIONARIO     -            SANEPARPN N2        -   \n",
       "\n",
       "   Quantidade Preço / Ajuste Valor Operação / Ajuste D/C  \n",
       "0           9          10,17                   91,53   D  \n",
       "1           1           4,37                    4,37   D  "
      ]
     },
     "metadata": {},
     "output_type": "display_data"
    },
    {
     "name": "stdout",
     "output_type": "stream",
     "text": [
      "['Q', 'Negociação', 'C/V', 'Tipo mercado', 'Prazo', 'Especificação do título', 'Obs. (*)', 'Quantidade', 'Preço / Ajuste', 'Valor Operação / Ajuste', 'D/C']\n"
     ]
    }
   ],
   "source": [
    "# columns tittles \n",
    "q, neg, cv= 43, 88, 107\n",
    "tip, praz, esp = 152, 189, 297\n",
    "obs, qt, prec = 327, 377, 441\n",
    "val = 542\n",
    "cols = [q, neg, cv, tip, praz, esp, obs, qt, prec, val]\n",
    "area = [240, 10, 455, 590]\n",
    "# (top,left,bottom,right) - batch \n",
    "file = path + \"/\" + files[7]\n",
    "# Get date from table in file\n",
    "area_date = [55, 500, 75, 590]\n",
    "result = read_pdf(file, pages=\"all\", area=area_date)\n",
    "result_df = result[0]\n",
    "date = result_df.values[0][0].replace(\"/\", \"-\")\n",
    "print(date)\n",
    "\n",
    "temp = read_pdf(file, pages=\"all\", stream=True, area=area, columns=cols)\n",
    "final_df = temp[0].fillna(\"-\")\n",
    "display(final_df)\n",
    "print(list(final_df.columns))"
   ]
  },
  {
   "cell_type": "code",
   "execution_count": 224,
   "metadata": {},
   "outputs": [],
   "source": [
    "csv_path = f\"/opt/Projects/Personal_Proj_Read_Stock_PDF/csv_converted/{year}\"\n",
    "final_df.to_csv(f\"{csv_path}/{date}.csv\", index=False)"
   ]
  },
  {
   "cell_type": "code",
   "execution_count": null,
   "metadata": {},
   "outputs": [],
   "source": []
  }
 ],
 "metadata": {
  "kernelspec": {
   "display_name": "Python 3",
   "language": "python",
   "name": "python3"
  },
  "language_info": {
   "codemirror_mode": {
    "name": "ipython",
    "version": 3
   },
   "file_extension": ".py",
   "mimetype": "text/x-python",
   "name": "python",
   "nbconvert_exporter": "python",
   "pygments_lexer": "ipython3",
   "version": "3.11.8"
  }
 },
 "nbformat": 4,
 "nbformat_minor": 2
}
