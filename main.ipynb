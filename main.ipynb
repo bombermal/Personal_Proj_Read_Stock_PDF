{
 "cells": [
  {
   "cell_type": "code",
   "execution_count": 2,
   "metadata": {},
   "outputs": [],
   "source": [
    "# Imports\n",
    "import os\n",
    "from tabula import read_pdf, convert_into\n",
    "import pandas as pd"
   ]
  },
  {
   "cell_type": "code",
   "execution_count": 6,
   "metadata": {},
   "outputs": [
    {
     "name": "stdout",
     "output_type": "stream",
     "text": [
      "19\n"
     ]
    },
    {
     "data": {
      "text/plain": [
       "['XPINC_NOTA_NEGOCIACAO_B3_11_2_2022.pdf',\n",
       " 'XPINC_NOTA_NEGOCIACAO_B3_12_9_2022.pdf',\n",
       " 'XPINC_NOTA_NEGOCIACAO_B3_14_4_2022.pdf',\n",
       " 'XPINC_NOTA_NEGOCIACAO_B3_15_3_2022.pdf',\n",
       " 'XPINC_NOTA_NEGOCIACAO_B3_16_11_2022.pdf',\n",
       " 'XPINC_NOTA_NEGOCIACAO_B3_16_2_2022.pdf',\n",
       " 'XPINC_NOTA_NEGOCIACAO_B3_16_9_2022.pdf',\n",
       " 'XPINC_NOTA_NEGOCIACAO_B3_17_1_2022.pdf',\n",
       " 'XPINC_NOTA_NEGOCIACAO_B3_17_2_2022.pdf',\n",
       " 'XPINC_NOTA_NEGOCIACAO_B3_18_11_2022.pdf',\n",
       " 'XPINC_NOTA_NEGOCIACAO_B3_20_5_2022.pdf',\n",
       " 'XPINC_NOTA_NEGOCIACAO_B3_25_7_2022.pdf',\n",
       " 'XPINC_NOTA_NEGOCIACAO_B3_27_6_2022.pdf',\n",
       " 'XPINC_NOTA_NEGOCIACAO_B3_28_4_2022.pdf',\n",
       " 'XPINC_NOTA_NEGOCIACAO_B3_2_2_2022.pdf',\n",
       " 'XPINC_NOTA_NEGOCIACAO_B3_31_5_2022.pdf',\n",
       " 'XPINC_NOTA_NEGOCIACAO_B3_6_5_2022.pdf',\n",
       " 'XPINC_NOTA_NEGOCIACAO_B3_7_2_2022.pdf',\n",
       " 'XPINC_NOTA_NEGOCIACAO_B3_9_2_2022.pdf']"
      ]
     },
     "execution_count": 6,
     "metadata": {},
     "output_type": "execute_result"
    }
   ],
   "source": [
    "year = 2022\n",
    "# Find os type\n",
    "if os.name == \"posix\":\n",
    "    path = f\"/opt/Projects/Personal_Proj_Read_Stock_PDF/pdf_source/{year}\"\n",
    "else:\n",
    "    path = f\"D:/Ivan/OneDrive/Documents/Investimento/IR/{year}/Rico/Notas de corretagem\"\n",
    "\n",
    "# List files inside the directory\n",
    "files = os.listdir(path)\n",
    "try: \n",
    "    files.remove(\".keep\")\n",
    "except:\n",
    "    pass\n",
    "print(len(files))\n",
    "files"
   ]
  },
  {
   "cell_type": "code",
   "execution_count": 138,
   "metadata": {},
   "outputs": [
    {
     "name": "stdout",
     "output_type": "stream",
     "text": [
      "16-11-2022\n",
      "1\n"
     ]
    },
    {
     "name": "stderr",
     "output_type": "stream",
     "text": [
      "c:\\Users\\ivana\\miniconda3\\envs\\pdf_read\\Lib\\site-packages\\tabula\\io.py:1045: FutureWarning: errors='ignore' is deprecated and will raise in a future version. Use to_numeric without passing `errors` and catch exceptions explicitly instead\n",
      "  df[c] = pd.to_numeric(df[c], errors=\"ignore\")\n"
     ]
    },
    {
     "data": {
      "text/html": [
       "<div>\n",
       "<style scoped>\n",
       "    .dataframe tbody tr th:only-of-type {\n",
       "        vertical-align: middle;\n",
       "    }\n",
       "\n",
       "    .dataframe tbody tr th {\n",
       "        vertical-align: top;\n",
       "    }\n",
       "\n",
       "    .dataframe thead th {\n",
       "        text-align: right;\n",
       "    }\n",
       "</style>\n",
       "<table border=\"1\" class=\"dataframe\">\n",
       "  <thead>\n",
       "    <tr style=\"text-align: right;\">\n",
       "      <th></th>\n",
       "      <th>Q</th>\n",
       "      <th>Negociação</th>\n",
       "      <th>C/V</th>\n",
       "      <th>Tipo mercado</th>\n",
       "      <th>Prazo</th>\n",
       "      <th>Especificação do título</th>\n",
       "      <th>Obs. (*)</th>\n",
       "      <th>Quantidade</th>\n",
       "      <th>Preço / Ajuste V</th>\n",
       "      <th>alor Operação / Ajuste</th>\n",
       "      <th>D/C</th>\n",
       "    </tr>\n",
       "  </thead>\n",
       "  <tbody>\n",
       "    <tr>\n",
       "      <th>0</th>\n",
       "      <td>-</td>\n",
       "      <td>1-BOVESPA</td>\n",
       "      <td>C</td>\n",
       "      <td>VISTA</td>\n",
       "      <td>-</td>\n",
       "      <td>OION N1</td>\n",
       "      <td>-</td>\n",
       "      <td>700</td>\n",
       "      <td>0,18</td>\n",
       "      <td>126,00</td>\n",
       "      <td>D</td>\n",
       "    </tr>\n",
       "  </tbody>\n",
       "</table>\n",
       "</div>"
      ],
      "text/plain": [
       "   Q Negociação C/V Tipo mercado Prazo Especificação do título Obs. (*)  \\\n",
       "0  -  1-BOVESPA   C        VISTA     -                 OION N1        -   \n",
       "\n",
       "   Quantidade Preço / Ajuste V alor Operação / Ajuste D/C  \n",
       "0         700             0,18                 126,00   D  "
      ]
     },
     "metadata": {},
     "output_type": "display_data"
    },
    {
     "name": "stdout",
     "output_type": "stream",
     "text": [
      "['Q', 'Negociação', 'C/V', 'Tipo mercado', 'Prazo', 'Especificação do título', 'Obs. (*)', 'Quantidade', 'Preço / Ajuste V', 'alor Operação / Ajuste', 'D/C']\n"
     ]
    }
   ],
   "source": [
    "# columns tittles \n",
    "q, neg, cv= 42, 88, 115\n",
    "tip, praz, esp = 157, 192, 299\n",
    "obs, qt, prec = 329, 378, 443\n",
    "val = 537\n",
    "cols = [q, neg, cv, tip, praz, esp, obs, qt, prec, val]\n",
    "# (top,left,bottom,right) - batch \n",
    "file = path + \"/\" + files[4]\n",
    "# Get date from table in file\n",
    "area_date = [50, 495, 70, 590]\n",
    "result = read_pdf(file, pages=\"all\", area=area_date)\n",
    "result_df = result[0]\n",
    "date = result_df.values[0][0].replace(\"/\", \"-\")\n",
    "print(date)\n",
    "\n",
    "# (top,left,bottom,right) - batch \n",
    "area = [240, 10, 445, 590]\n",
    "temp = read_pdf(file, pages=\"all\", stream=True, area=area, columns=cols)\n",
    "print(len(temp))\n",
    "final_df = temp[0].fillna(\"-\")\n",
    "display(final_df)\n",
    "print(list(final_df.columns))"
   ]
  },
  {
   "cell_type": "code",
   "execution_count": 140,
   "metadata": {},
   "outputs": [],
   "source": [
    "# Find os type\n",
    "if os.name == \"posix\":\n",
    "    csv_path = f\"/opt/Projects/Personal_Proj_Read_Stock_PDF/csv_converted/{year}\"\n",
    "else:\n",
    "    csv_path = f\"Y:/Personal_Proj_Read_Stock_PDF/csv_converted/{year}\"\n",
    "\n",
    "final_df.to_csv(f\"{csv_path}/{date}.csv\", index=False)"
   ]
  },
  {
   "cell_type": "code",
   "execution_count": 58,
   "metadata": {},
   "outputs": [
    {
     "data": {
      "text/html": [
       "<div>\n",
       "<style scoped>\n",
       "    .dataframe tbody tr th:only-of-type {\n",
       "        vertical-align: middle;\n",
       "    }\n",
       "\n",
       "    .dataframe tbody tr th {\n",
       "        vertical-align: top;\n",
       "    }\n",
       "\n",
       "    .dataframe thead th {\n",
       "        text-align: right;\n",
       "    }\n",
       "</style>\n",
       "<table border=\"1\" class=\"dataframe\">\n",
       "  <thead>\n",
       "    <tr style=\"text-align: right;\">\n",
       "      <th></th>\n",
       "      <th>Q</th>\n",
       "      <th>Negociação</th>\n",
       "      <th>C/V</th>\n",
       "      <th>Tipo mercado</th>\n",
       "      <th>Prazo</th>\n",
       "      <th>Especificação do título</th>\n",
       "      <th>Obs</th>\n",
       "      <th>. (*) Quantidad</th>\n",
       "      <th>e Preço / Ajuste</th>\n",
       "      <th>Valor Operação / Ajuste</th>\n",
       "      <th>D/C</th>\n",
       "    </tr>\n",
       "  </thead>\n",
       "  <tbody>\n",
       "    <tr>\n",
       "      <th>0</th>\n",
       "      <td>NaN</td>\n",
       "      <td>1-BOVESPA</td>\n",
       "      <td>C</td>\n",
       "      <td>FRACIONARI</td>\n",
       "      <td>O</td>\n",
       "      <td>MAGAZ LUIZAON NM</td>\n",
       "      <td>NaN</td>\n",
       "      <td>NaN</td>\n",
       "      <td>9 6,4</td>\n",
       "      <td>4 57,96</td>\n",
       "      <td>D</td>\n",
       "    </tr>\n",
       "    <tr>\n",
       "      <th>1</th>\n",
       "      <td>Res</td>\n",
       "      <td>umo dos Negóc</td>\n",
       "      <td>ios</td>\n",
       "      <td>NaN</td>\n",
       "      <td>NaN</td>\n",
       "      <td>NaN</td>\n",
       "      <td>Resumo F</td>\n",
       "      <td>inanceiro</td>\n",
       "      <td>NaN</td>\n",
       "      <td>NaN</td>\n",
       "      <td>NaN</td>\n",
       "    </tr>\n",
       "    <tr>\n",
       "      <th>2</th>\n",
       "      <td>De</td>\n",
       "      <td>bêntures</td>\n",
       "      <td>NaN</td>\n",
       "      <td>NaN</td>\n",
       "      <td>NaN</td>\n",
       "      <td>0,00</td>\n",
       "      <td>Clearing</td>\n",
       "      <td>NaN</td>\n",
       "      <td>NaN</td>\n",
       "      <td>NaN</td>\n",
       "      <td>NaN</td>\n",
       "    </tr>\n",
       "  </tbody>\n",
       "</table>\n",
       "</div>"
      ],
      "text/plain": [
       "     Q     Negociação  C/V Tipo mercado Prazo Especificação do título  \\\n",
       "0  NaN      1-BOVESPA    C   FRACIONARI     O        MAGAZ LUIZAON NM   \n",
       "1  Res  umo dos Negóc  ios          NaN   NaN                     NaN   \n",
       "2   De       bêntures  NaN          NaN   NaN                    0,00   \n",
       "\n",
       "        Obs . (*) Quantidad e Preço / Ajuste Valor Operação / Ajuste  D/C  \n",
       "0       NaN             NaN            9 6,4                 4 57,96    D  \n",
       "1  Resumo F       inanceiro              NaN                     NaN  NaN  \n",
       "2  Clearing             NaN              NaN                     NaN  NaN  "
      ]
     },
     "execution_count": 58,
     "metadata": {},
     "output_type": "execute_result"
    }
   ],
   "source": [
    "temp[0]"
   ]
  }
 ],
 "metadata": {
  "kernelspec": {
   "display_name": "Python 3",
   "language": "python",
   "name": "python3"
  },
  "language_info": {
   "codemirror_mode": {
    "name": "ipython",
    "version": 3
   },
   "file_extension": ".py",
   "mimetype": "text/x-python",
   "name": "python",
   "nbconvert_exporter": "python",
   "pygments_lexer": "ipython3",
   "version": "3.11.8"
  }
 },
 "nbformat": 4,
 "nbformat_minor": 2
}
