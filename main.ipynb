{
 "cells": [
  {
   "cell_type": "code",
   "execution_count": 174,
   "metadata": {},
   "outputs": [],
   "source": [
    "# Imports\n",
    "import os\n",
    "from tabula import read_pdf, convert_into"
   ]
  },
  {
   "cell_type": "code",
   "execution_count": 6,
   "metadata": {},
   "outputs": [
    {
     "data": {
      "text/plain": [
       "['NOTA_CORRETAGEM_03_09_2020.pdf',\n",
       " 'NOTA_CORRETAGEM_09_10_2020.pdf',\n",
       " 'NOTA_CORRETAGEM_13_03_2020.pdf',\n",
       " 'NOTA_CORRETAGEM_13_08_2020.pdf',\n",
       " 'NOTA_CORRETAGEM_13_10_2020.pdf',\n",
       " 'NOTA_CORRETAGEM_14_09_2020.pdf',\n",
       " 'NOTA_CORRETAGEM_17_11_2020.pdf',\n",
       " 'NOTA_CORRETAGEM_18_11_2020.pdf',\n",
       " 'NOTA_CORRETAGEM_20_03_2020.pdf',\n",
       " 'NOTA_CORRETAGEM_25_11_2020.pdf',\n",
       " 'NOTA_CORRETAGEM_28_09_2020.pdf',\n",
       " 'NOTA_CORRETAGEM_30_11_2020.pdf']"
      ]
     },
     "execution_count": 6,
     "metadata": {},
     "output_type": "execute_result"
    }
   ],
   "source": [
    "path_2020 = \"D:/Ivan/OneDrive/Documents/Investimento/IR/2020/Notas de corretagem\"\n",
    "\n",
    "# List files inside the directory\n",
    "files = os.listdir(path_2020)\n",
    "files"
   ]
  },
  {
   "cell_type": "code",
   "execution_count": 208,
   "metadata": {},
   "outputs": [
    {
     "name": "stderr",
     "output_type": "stream",
     "text": [
      "c:\\Users\\ivana\\miniconda3\\envs\\pdf_read\\Lib\\site-packages\\tabula\\io.py:1045: FutureWarning: errors='ignore' is deprecated and will raise in a future version. Use to_numeric without passing `errors` and catch exceptions explicitly instead\n",
      "  df[c] = pd.to_numeric(df[c], errors=\"ignore\")\n"
     ]
    },
    {
     "name": "stdout",
     "output_type": "stream",
     "text": [
      "03/09/2020\n",
      "Index(['Q', 'Negociação', 'C/V', 'Tipo mercado', 'Prazo',\n",
      "       'Especificação do título', 'Obs. (*)', 'Quantidade', 'Preço / Ajuste',\n",
      "       'Valor Operação / Ajuste', 'D/C'],\n",
      "      dtype='object')\n"
     ]
    },
    {
     "name": "stderr",
     "output_type": "stream",
     "text": [
      "C:\\Users\\ivana\\AppData\\Local\\Temp\\ipykernel_15352\\3659019309.py:14: FutureWarning: Setting an item of incompatible dtype is deprecated and will raise an error in a future version of pandas. Value '' has dtype incompatible with float64, please explicitly cast to a compatible dtype first.\n",
      "  temp[0].fillna(\"\", inplace=True)\n"
     ]
    },
    {
     "data": {
      "text/html": [
       "<div>\n",
       "<style scoped>\n",
       "    .dataframe tbody tr th:only-of-type {\n",
       "        vertical-align: middle;\n",
       "    }\n",
       "\n",
       "    .dataframe tbody tr th {\n",
       "        vertical-align: top;\n",
       "    }\n",
       "\n",
       "    .dataframe thead th {\n",
       "        text-align: right;\n",
       "    }\n",
       "</style>\n",
       "<table border=\"1\" class=\"dataframe\">\n",
       "  <thead>\n",
       "    <tr style=\"text-align: right;\">\n",
       "      <th></th>\n",
       "      <th>Q</th>\n",
       "      <th>Negociação</th>\n",
       "      <th>C/V</th>\n",
       "      <th>Tipo mercado</th>\n",
       "      <th>Prazo</th>\n",
       "      <th>Especificação do título</th>\n",
       "      <th>Obs. (*)</th>\n",
       "      <th>Quantidade</th>\n",
       "      <th>Preço / Ajuste</th>\n",
       "      <th>Valor Operação / Ajuste</th>\n",
       "      <th>D/C</th>\n",
       "    </tr>\n",
       "  </thead>\n",
       "  <tbody>\n",
       "    <tr>\n",
       "      <th>0</th>\n",
       "      <td></td>\n",
       "      <td>1-BOVESPA</td>\n",
       "      <td>C</td>\n",
       "      <td>FRACIONARIO</td>\n",
       "      <td></td>\n",
       "      <td>BRASKEMPNA N1</td>\n",
       "      <td></td>\n",
       "      <td>2</td>\n",
       "      <td>21,05</td>\n",
       "      <td>42,10</td>\n",
       "      <td>D</td>\n",
       "    </tr>\n",
       "    <tr>\n",
       "      <th>1</th>\n",
       "      <td></td>\n",
       "      <td>1-BOVESPA</td>\n",
       "      <td>C</td>\n",
       "      <td>FRACIONARIO</td>\n",
       "      <td></td>\n",
       "      <td>MAGAZ LUIZAON NM</td>\n",
       "      <td></td>\n",
       "      <td>1</td>\n",
       "      <td>88,41</td>\n",
       "      <td>88,41</td>\n",
       "      <td>D</td>\n",
       "    </tr>\n",
       "    <tr>\n",
       "      <th>2</th>\n",
       "      <td></td>\n",
       "      <td>1-BOVESPA</td>\n",
       "      <td>C</td>\n",
       "      <td>FRACIONARIO</td>\n",
       "      <td></td>\n",
       "      <td>WEGON NM</td>\n",
       "      <td></td>\n",
       "      <td>1</td>\n",
       "      <td>63,92</td>\n",
       "      <td>63,92</td>\n",
       "      <td>D</td>\n",
       "    </tr>\n",
       "  </tbody>\n",
       "</table>\n",
       "</div>"
      ],
      "text/plain": [
       "  Q Negociação C/V Tipo mercado Prazo Especificação do título Obs. (*)  \\\n",
       "0    1-BOVESPA   C  FRACIONARIO                 BRASKEMPNA N1            \n",
       "1    1-BOVESPA   C  FRACIONARIO              MAGAZ LUIZAON NM            \n",
       "2    1-BOVESPA   C  FRACIONARIO                      WEGON NM            \n",
       "\n",
       "   Quantidade Preço / Ajuste Valor Operação / Ajuste D/C  \n",
       "0           2          21,05                   42,10   D  \n",
       "1           1          88,41                   88,41   D  \n",
       "2           1          63,92                   63,92   D  "
      ]
     },
     "metadata": {},
     "output_type": "display_data"
    }
   ],
   "source": [
    "#       Q, Neg, CV, Tip\n",
    "cols = [43, 88, 103, 168, 187, 308, 338, 388, 444, 542]\n",
    "area = [240, 10, 455, 590]\n",
    "# (top,left,bottom,right) - batch \n",
    "file = path_2020 + \"/\" + files[0]\n",
    "# Get date from table in file\n",
    "area_date = [55, 500, 75, 590]\n",
    "result = read_pdf(file, pages=\"all\", area=area_date)\n",
    "result_df = result[0]\n",
    "date = result_df.values[0][0]\n",
    "print(date)\n",
    "\n",
    "temp = read_pdf(file, pages=\"all\", stream=True, area=area, columns=cols)\n",
    "temp[0].fillna(\"\", inplace=True)\n",
    "print(temp[0].columns)\n",
    "display(temp[0])\n"
   ]
  },
  {
   "cell_type": "code",
   "execution_count": 204,
   "metadata": {},
   "outputs": [
    {
     "data": {
      "text/plain": [
       "'03/09/2020'"
      ]
     },
     "execution_count": 204,
     "metadata": {},
     "output_type": "execute_result"
    }
   ],
   "source": []
  }
 ],
 "metadata": {
  "kernelspec": {
   "display_name": "Python 3",
   "language": "python",
   "name": "python3"
  },
  "language_info": {
   "codemirror_mode": {
    "name": "ipython",
    "version": 3
   },
   "file_extension": ".py",
   "mimetype": "text/x-python",
   "name": "python",
   "nbconvert_exporter": "python",
   "pygments_lexer": "ipython3",
   "version": "3.9.5"
  }
 },
 "nbformat": 4,
 "nbformat_minor": 2
}
